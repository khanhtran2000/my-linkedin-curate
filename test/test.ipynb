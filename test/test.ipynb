{
 "cells": [
  {
   "cell_type": "code",
   "execution_count": null,
   "metadata": {},
   "outputs": [],
   "source": [
    "from bs4 import BeautifulSoup\n",
    "from selenium import webdriver\n",
    "from selenium.webdriver.common.by import By\n",
    "import time\n",
    "\n",
    "\n",
    "chrome_path = \"/Users/macbook/Desktop/Other_Projects/my-linkedin-curate/chromedriver\"\n",
    "login_url = \"https://www.linkedin.com/login?fromSignIn=true&trk=guest_homepage-basic_nav-header-signin\"\n",
    "username = \"giakhanhhnams@gmail.com\"\n",
    "password = \"\"\n",
    "\n",
    "options = webdriver.ChromeOptions()\n",
    "options.add_argument(\"headless\")\n",
    "driver = webdriver.Chrome(executable_path=chrome_path, options=options)\n",
    "driver.get(login_url)\n",
    "elementID = driver.find_element(By.ID, \"username\")\n",
    "elementID.send_keys(username)\n",
    "elementID = driver.find_element(By.ID, \"password\")\n",
    "elementID.send_keys(password)\n",
    "elementID.submit()\n",
    "\n",
    "url = \"https://www.linkedin.com/in/stevenouri/recent-activity/shares/\"\n",
    "driver.get(url)\n",
    "time.sleep(5)\n",
    "html = driver.page_source\n",
    "soup = BeautifulSoup(html, 'html.parser')\n",
    "soup.prettify()\n",
    "\n",
    "containers = soup.find_all(\"div\", {\"class\":\"ember-view occludable-update\"})\n",
    "\n",
    "for container in containers:\n",
    "    text_box = container.find(\"div\", {\"class\":\"feed-shared-text relative feed-shared-update-v2__commentary\"})\n",
    "    text = text_box.find(\"span\", {\"dir\":\"ltr\"})\n",
    "    print(text)"
   ]
  },
  {
   "cell_type": "code",
   "execution_count": 49,
   "metadata": {},
   "outputs": [
    {
     "name": "stdout",
     "output_type": "stream",
     "text": [
      "2098\n",
      "445\n",
      "10048\n",
      "1509\n",
      "10169\n",
      "3364\n",
      "1514\n",
      "28279\n"
     ]
    }
   ],
   "source": [
    "for container in containers:\n",
    "    reactions_count_box = container.find(\"div\", {\"class\":\"social-details-social-activity update-v2-social-activity\"})\n",
    "    reactions_count = reactions_count_box.find(\"span\", {\"class\":\"social-details-social-counts__reactions-count\"}).text\n",
    "    reactions_count = int(reactions_count.replace(\",\", \"\"))\n",
    "    print(reactions_count)"
   ]
  },
  {
   "cell_type": "code",
   "execution_count": 61,
   "metadata": {},
   "outputs": [
    {
     "name": "stdout",
     "output_type": "stream",
     "text": [
      "30\n",
      "9\n",
      "358\n",
      "96\n",
      "182\n",
      "66\n",
      "79\n",
      "498\n"
     ]
    }
   ],
   "source": [
    "import re\n",
    "\n",
    "for container in containers:\n",
    "    comments_count_div_box = container.find(\"div\", {\"class\":\"social-details-social-activity update-v2-social-activity\"})\n",
    "    comments_count_li_box = comments_count_div_box.find(\"li\", {\"class\":\"social-details-social-counts__item social-details-social-counts__comments social-details-social-counts__item--with-social-proof\"})\n",
    "    comments_count = comments_count_li_box.find(\"span\").text\n",
    "    comments_count = int(re.findall(\"\\d+\\\\b\", comments_count)[0])\n",
    "    print(comments_count)\n"
   ]
  },
  {
   "cell_type": "code",
   "execution_count": 63,
   "metadata": {},
   "outputs": [
    {
     "name": "stdout",
     "output_type": "stream",
     "text": [
      "83\n",
      "13\n",
      "565\n",
      "105\n",
      "1\n",
      "120\n",
      "146\n",
      "1\n"
     ]
    }
   ],
   "source": [
    "for container in containers:\n",
    "    shares_count_div_box = container.find(\"div\", {\"class\":\"social-details-social-activity update-v2-social-activity\"})\n",
    "    shares_count_li_box = shares_count_div_box.find(\"li\", {\"class\":\"social-details-social-counts__item social-details-social-counts__item--with-social-proof\"})\n",
    "    shares_count = shares_count_li_box.find(\"span\").text\n",
    "    shares_count = int(re.findall(\"\\d+\\\\b\", shares_count)[0])\n",
    "    print(shares_count)"
   ]
  },
  {
   "cell_type": "code",
   "execution_count": null,
   "metadata": {},
   "outputs": [],
   "source": []
  }
 ],
 "metadata": {
  "interpreter": {
   "hash": "935f222259b87c6ad66c0e4172b9d1bab0a28a6dcb62c80414c0d26973a66fd8"
  },
  "kernelspec": {
   "display_name": "Python 3.9.10 ('.venv': venv)",
   "language": "python",
   "name": "python3"
  },
  "language_info": {
   "codemirror_mode": {
    "name": "ipython",
    "version": 3
   },
   "file_extension": ".py",
   "mimetype": "text/x-python",
   "name": "python",
   "nbconvert_exporter": "python",
   "pygments_lexer": "ipython3",
   "version": "3.9.10"
  },
  "orig_nbformat": 4
 },
 "nbformat": 4,
 "nbformat_minor": 2
}
