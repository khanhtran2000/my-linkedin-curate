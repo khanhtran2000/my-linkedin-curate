{
 "cells": [
  {
   "cell_type": "code",
   "execution_count": 39,
   "metadata": {},
   "outputs": [
    {
     "name": "stderr",
     "output_type": "stream",
     "text": [
      "/var/folders/j7/vnp2w2qd3xg5f0rctfbs0lm40000gn/T/ipykernel_50146/1485690487.py:14: DeprecationWarning: executable_path has been deprecated, please pass in a Service object\n",
      "  driver = webdriver.Chrome(executable_path=chrome_path, options=options)\n"
     ]
    }
   ],
   "source": [
    "from bs4 import BeautifulSoup\n",
    "from selenium import webdriver\n",
    "from selenium.webdriver.common.by import By\n",
    "import time\n",
    "\n",
    "\n",
    "chrome_path = \"/Users/macbook/Desktop/Other_Projects/my-linkedin-curate/chromedriver\"\n",
    "login_url = \"https://www.linkedin.com/login?fromSignIn=true&trk=guest_homepage-basic_nav-header-signin\"\n",
    "username = \"giakhanhhnams@gmail.com\"\n",
    "password = \"tomvalyA25\"\n",
    "\n",
    "options = webdriver.ChromeOptions()\n",
    "options.add_argument(\"headless\")\n",
    "driver = webdriver.Chrome(executable_path=chrome_path, options=options)\n",
    "driver.get(login_url)\n",
    "elementID = driver.find_element(By.ID, \"username\")\n",
    "elementID.send_keys(username)\n",
    "elementID = driver.find_element(By.ID, \"password\")\n",
    "elementID.send_keys(password)\n",
    "elementID.submit()\n",
    "\n",
    "url = \"https://www.linkedin.com/in/stevenouri/recent-activity/shares/\"\n",
    "driver.get(url)\n",
    "time.sleep(5)\n",
    "html = driver.page_source\n",
    "soup = BeautifulSoup(html, 'html.parser')\n",
    "soup.prettify()\n",
    "\n",
    "containers = soup.find_all(\"div\", {\"class\":\"ember-view occludable-update\"})\n",
    "\n",
    "for container in containers:\n",
    "    text_box = container.find(\"div\", {\"class\":\"feed-shared-text relative feed-shared-update-v2__commentary\"})\n",
    "    text = text_box.find(\"span\", {\"dir\":\"ltr\"})\n",
    "    print(text)"
   ]
  },
  {
   "cell_type": "code",
   "execution_count": null,
   "metadata": {},
   "outputs": [],
   "source": []
  }
 ],
 "metadata": {
  "interpreter": {
   "hash": "935f222259b87c6ad66c0e4172b9d1bab0a28a6dcb62c80414c0d26973a66fd8"
  },
  "kernelspec": {
   "display_name": "Python 3.9.10 ('.venv': venv)",
   "language": "python",
   "name": "python3"
  },
  "language_info": {
   "codemirror_mode": {
    "name": "ipython",
    "version": 3
   },
   "file_extension": ".py",
   "mimetype": "text/x-python",
   "name": "python",
   "nbconvert_exporter": "python",
   "pygments_lexer": "ipython3",
   "version": "3.9.10"
  },
  "orig_nbformat": 4
 },
 "nbformat": 4,
 "nbformat_minor": 2
}
